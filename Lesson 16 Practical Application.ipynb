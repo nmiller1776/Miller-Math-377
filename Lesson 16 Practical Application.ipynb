{
 "cells": [
  {
   "cell_type": "code",
   "execution_count": 3,
   "metadata": {},
   "outputs": [],
   "source": [
    "from datascience import *\n",
    "import numpy as np\n",
    "from math import *"
   ]
  },
  {
   "cell_type": "markdown",
   "metadata": {},
   "source": [
    "## Joint Distributions"
   ]
  },
  {
   "cell_type": "markdown",
   "metadata": {},
   "source": [
    "Recall from Lessons 13 & 14: let $X$ be a random variable. $X$ has a distribution that is described by a probability mass function (pmf) or probability density function (pdf). \n",
    "\n",
    "We can consider multiple random variables simultaneously using joint distributions. \n",
    "\n",
    "NOTE: When answering the questions below, you are not required to use Python. If you would like to answer in Markdown, feel free to change the type of the cell, or to use both types of cells. "
   ]
  },
  {
   "cell_type": "markdown",
   "metadata": {},
   "source": [
    "#### Example 1: Discrete Joint Distribution"
   ]
  },
  {
   "cell_type": "markdown",
   "metadata": {},
   "source": [
    "Let $X$ and $Y$ be discrete random variables that can each only take the values 0, 1 or 2, and do so according to the following distribution:"
   ]
  },
  {
   "cell_type": "markdown",
   "metadata": {},
   "source": [
    "\n",
    " |  | $X$  | 1 | 2 | 3 |\n",
    " |-- | ------ | ------ |\n",
    " |  | 1 | 0.17 | 0.15 | 0.08 |\n",
    " | $Y$ | 2 | 0.00 | 0.10 | 0.10 |\n",
    " |  | 3 | 0.08 | 0.20 | 0.12 |\n",
    " \n"
   ]
  },
  {
   "cell_type": "markdown",
   "metadata": {},
   "source": [
    "This is an example of a joint probability mass function (joint pmf), and is denoted as $f_{X,Y}(x,y)$. \n",
    "\n",
    "For example, the probability that $X$ takes the value 1 AND $Y$ takes the value 3, or $P(X=1,Y=3)$ is equal to 0.08. "
   ]
  },
  {
   "cell_type": "markdown",
   "metadata": {},
   "source": [
    "**_1.1_** Find $P(X = 2,Y=3)$. \n",
    "\n",
    "**_1.2_** Find $E(X+Y)$. "
   ]
  },
  {
   "cell_type": "code",
   "execution_count": 3,
   "metadata": {},
   "outputs": [
    {
     "data": {
      "text/plain": [
       "0.2"
      ]
     },
     "execution_count": 3,
     "metadata": {},
     "output_type": "execute_result"
    }
   ],
   "source": [
    "0.20"
   ]
  },
  {
   "cell_type": "code",
   "execution_count": 2,
   "metadata": {},
   "outputs": [
    {
     "data": {
      "text/plain": [
       "4.05"
      ]
     },
     "execution_count": 2,
     "metadata": {},
     "output_type": "execute_result"
    }
   ],
   "source": [
    "2*0.17+3*0.15+4*0.26+5*0.30+6*0.12"
   ]
  },
  {
   "cell_type": "markdown",
   "metadata": {},
   "source": [
    "### Marginal Probability"
   ]
  },
  {
   "cell_type": "markdown",
   "metadata": {},
   "source": [
    "When given a joint pmf like this, we may want to know the distribution of $X$ or $Y$ individually. Specifically, we might want to know $P(X=1)$ or $f_Y(y)$. \n",
    "\n",
    "Marginal probability can be found by summing across the remaining variable. Specifically,\n",
    "\n",
    "$$\n",
    "f_X(x)=\\sum_y f_{X,Y}(x,y)\n",
    "$$\n",
    "and \n",
    "$$\n",
    "f_Y(y)=\\sum_x f_{X,Y}(x,y)\n",
    "$$\n"
   ]
  },
  {
   "cell_type": "markdown",
   "metadata": {},
   "source": [
    "**_1.3_** Find $P(X=2)$. \n",
    "\n",
    "**_1.4_** Find $f_Y(y)$ (the marginal pmf of $Y$). \n",
    "\n",
    "**_1.5_** Find $E(Y)$ and $V(Y)$. "
   ]
  },
  {
   "cell_type": "code",
   "execution_count": 4,
   "metadata": {},
   "outputs": [
    {
     "data": {
      "text/plain": [
       "0.45"
      ]
     },
     "execution_count": 4,
     "metadata": {},
     "output_type": "execute_result"
    }
   ],
   "source": [
    "0.45"
   ]
  },
  {
   "cell_type": "markdown",
   "metadata": {
    "scrolled": true
   },
   "source": [
    "the odds that y is 1 is 0.40, the odds it is 2 is 0.20, and the odds it is 3 is 0.40."
   ]
  },
  {
   "cell_type": "code",
   "execution_count": 2,
   "metadata": {},
   "outputs": [
    {
     "name": "stdout",
     "output_type": "stream",
     "text": [
      "2.0 0.8\n"
     ]
    }
   ],
   "source": [
    "mean_y = 1*.4 + 2*.2 + 3*.4\n",
    "variance_y = (1-mean_y)**2*0.40+(2-mean_y)**2*0.20+(3-mean_y)**2*0.4\n",
    "print(mean_y, variance_y)"
   ]
  },
  {
   "cell_type": "markdown",
   "metadata": {},
   "source": [
    "### Conditional Probability\n",
    "\n",
    "We may be interested in the probability $X$ takes a specific value conditioned on the value of $Y$. Recall that conditional probability is given by $P(A|B)=\\frac{P(A,B)}{P(B)}$. \n",
    "\n",
    "So, essentially, conditional probability can be found by dividing the joint probability by the appropriate marginal probability. "
   ]
  },
  {
   "cell_type": "markdown",
   "metadata": {},
   "source": [
    "**_1.6_** Find $P(Y=1|X=3)$. \n",
    "\n",
    "**_1.7_** Find $f_{X|Y=2}(x)$, the conditional pmf of $X$, given $Y=2$. \n",
    "\n",
    "**_1.8_** Find $E(X|Y=2)$ and $V(X|Y=2)$. "
   ]
  },
  {
   "cell_type": "code",
   "execution_count": 11,
   "metadata": {},
   "outputs": [
    {
     "data": {
      "text/plain": [
       "0.26666666666666666"
      ]
     },
     "execution_count": 11,
     "metadata": {},
     "output_type": "execute_result"
    }
   ],
   "source": [
    "0.08/.3"
   ]
  },
  {
   "cell_type": "code",
   "execution_count": 16,
   "metadata": {},
   "outputs": [],
   "source": [
    "x_given_y2_table = Table().with_columns('X', make_array(1,2,3), 'pmf', make_array(0, 0.5, 0.5))"
   ]
  },
  {
   "cell_type": "code",
   "execution_count": 23,
   "metadata": {},
   "outputs": [
    {
     "name": "stdout",
     "output_type": "stream",
     "text": [
      "2.5 0.25\n"
     ]
    }
   ],
   "source": [
    "Expexted_x_given_y2 = np.sum(x_given_y2_table[0]*x_given_y2_table[1])\n",
    "variance_x_given_y2 = np.sum((x_given_y2_table[0]-Expexted_x_given_y2)**2*x_given_y2_table[1])\n",
    "print(Expexted_x_given_y2, variance_x_given_y2)"
   ]
  },
  {
   "cell_type": "markdown",
   "metadata": {},
   "source": [
    "**_1.9_** Are $X$ and $Y$ independent? Why or why not? "
   ]
  },
  {
   "cell_type": "markdown",
   "metadata": {},
   "source": [
    "Yes. Values for X and Y are not the same regardless of the value of the other."
   ]
  },
  {
   "cell_type": "markdown",
   "metadata": {},
   "source": [
    "### Covariance and Correlation\n",
    "\n",
    "Expected value and variance help us characterize $X$ and $Y$ marginally and conditionally, but we may also be interested in measuring the relationship between $X$ and $Y$. For this, we use *covariance*. \n",
    "\n",
    "$$\n",
    "Cov(X,Y)=E[(X-E(X))(Y-E(Y))] = E(XY)-E(X)E(Y)\n",
    "$$\n",
    "\n",
    "Note that if $X$ and $Y$ are independent, $Cov(X,Y) =0$. The converse is NOT necessarily true. \n",
    "\n",
    "Covariance is dependent on the scales of $X$ and $Y$, so if the two variables are of vastly different scale, we'll want to use covariance's unitless counterpart, correlation, denoted by $\\rho$. \n",
    "\n",
    "$$\n",
    "\\rho = \\frac{Cov(X,Y)}{\\sqrt{Var(X)Var(Y)}}\n",
    "$$\n",
    "\n",
    "$\\rho$ is bounded by the interval $[-1,1]$. When $\\rho=1$, $X$ and $Y$ are perfectly positively correlated. Similarly, when $\\rho=-1$, $X$ and $Y$ are perfectly negatively correlated. "
   ]
  },
  {
   "cell_type": "markdown",
   "metadata": {},
   "source": [
    "**_1.10_** Find $Cov(X,Y)$\n",
    "\n",
    "**_1.11_** Find $Corr(X,Y)$, or $\\rho$. "
   ]
  },
  {
   "cell_type": "markdown",
   "metadata": {},
   "source": [
    "\n",
    " |  | $X$  | 1 | 2 | 3 |\n",
    " |-- | ------ | ------ |\n",
    " |  | 1 | 0.17 | 0.15 | 0.08 |\n",
    " | $Y$ | 2 | 0.00 | 0.10 | 0.10 |\n",
    " |  | 3 | 0.08 | 0.20 | 0.12 |\n",
    " \n"
   ]
  },
  {
   "cell_type": "code",
   "execution_count": 25,
   "metadata": {},
   "outputs": [
    {
     "data": {
      "text/plain": [
       "0.13000000000000078"
      ]
     },
     "execution_count": 25,
     "metadata": {},
     "output_type": "execute_result"
    }
   ],
   "source": [
    "mean_x = 1*.25+2*.45+3*.30\n",
    "mean_y = 1*.40+2*.20+3*.40\n",
    "mean_xy = 1*0.17+2*0.15+3*0.16+4*0.10+6*0.30+9*0.12\n",
    "cov_x_y = mean_xy-mean_x*mean_y\n",
    "cov_x_y"
   ]
  },
  {
   "cell_type": "code",
   "execution_count": 27,
   "metadata": {},
   "outputs": [
    {
     "data": {
      "text/plain": [
       "0.1964293126950385"
      ]
     },
     "execution_count": 27,
     "metadata": {},
     "output_type": "execute_result"
    }
   ],
   "source": [
    "variance_x = (1-mean_x)**2*0.25+(2-mean_x)**2*0.45+(3-mean_x)**2*0.30\n",
    "corr_xy = cov_x_y/((variance_x*variance_y)**(1/2))\n",
    "corr_xy"
   ]
  },
  {
   "cell_type": "markdown",
   "metadata": {},
   "source": [
    "In problem 1.2, we found $E(X+Y)$. In order to find $Var(X+Y)$, we need to know how $X$ and $Y$ are correlated: \n",
    "\n",
    "$$\n",
    "Var(X+Y)= Var(X)+Var(Y)+2*Cov(X,Y)\n",
    "$$"
   ]
  },
  {
   "cell_type": "markdown",
   "metadata": {},
   "source": [
    "**_1.12_** Find $Var(X+Y)$. "
   ]
  },
  {
   "cell_type": "code",
   "execution_count": 28,
   "metadata": {},
   "outputs": [
    {
     "data": {
      "text/plain": [
       "1.6075000000000017"
      ]
     },
     "execution_count": 28,
     "metadata": {},
     "output_type": "execute_result"
    }
   ],
   "source": [
    "var_xy = variance_x + variance_y + 2*cov_x_y\n",
    "var_xy"
   ]
  },
  {
   "cell_type": "markdown",
   "metadata": {},
   "source": [
    "#### Example 2: Continuous Joint Distribution\n",
    "\n",
    "All of the concepts above apply to continuous random variables. Consider continuous random variables $X$ and $Y$ with the following joint pdf:\n",
    "\n",
    "$$\n",
    "f_{X,Y}(x,y)=k(x+y)\n",
    "$$\n",
    "\n",
    "where both $x$ and $y$ are bounded by the interval $[0,1]$. "
   ]
  },
  {
   "cell_type": "markdown",
   "metadata": {},
   "source": [
    "**_2.1_** Find the value of $k$ that makes $f$ a valid joint pdf. "
   ]
  },
  {
   "cell_type": "markdown",
   "metadata": {},
   "source": [
    "$$\n",
    "\\int_{x=0}^{x=1} \\int_{y=0}^{y=1} k(x+y) dydx=1\n",
    "$$\n",
    "$$\n",
    "k\\int_{x=0}^{x=1} \\bigg(xy+\\frac{y^2}{2}\\bigg)dx\\bigg|_{y=0}^{y=1}=1\n",
    "$$\n",
    "$$\n",
    "k\\int_{x=0}^{x=1} \\bigg(x+\\frac{1}{2}\\bigg)dx=1\n",
    "$$\n",
    "$$\n",
    "k\\bigg(\\frac{x^2}{2}+\\frac{x}{2}\\bigg)\\bigg|_{x=0}^{x=1}=1\n",
    "$$\n",
    "$$\n",
    "k\\bigg(\\frac{1}{2}+\\frac{1}{2}\\bigg)=1\n",
    "$$\n",
    "$$\n",
    "k=1\n",
    "$$"
   ]
  },
  {
   "cell_type": "markdown",
   "metadata": {},
   "source": [
    "**_2.2_** Find $P(X<0.5,Y<0.5)$"
   ]
  },
  {
   "cell_type": "markdown",
   "metadata": {},
   "source": [
    "$$\n",
    "\\int_{x=0}^{x=0.5} \\int_{y=0}^{y=0.5} (x+y) dydx\n",
    "$$\n",
    "$$\n",
    "\\int_{x=0}^{x=0.5} \\bigg(xy+\\frac{y^2}{2}\\bigg)\\bigg|_{y=0}^{y=0.5}dx\n",
    "$$\n",
    "$$\n",
    "\\int_{x=0}^{x=0.5} \\bigg(\\frac{x}{2}+\\frac{1}{8}\\bigg)dx\n",
    "$$\n",
    "$$\n",
    "\\bigg(\\frac{x^2}{4}+\\frac{x}{8}\\bigg)\\bigg|_{x=0}^{x=0.5}\n",
    "$$\n",
    "$$\n",
    "\\frac{1}{8}\n",
    "$$"
   ]
  },
  {
   "cell_type": "markdown",
   "metadata": {},
   "source": [
    "**_2.3_** Find $f_X(x)$ and $f_Y(y)$, the marginal pdfs of $X$ and $Y$. \n",
    "\n",
    "**_2.4_** Find $E(X)$ and $E(Y)$. "
   ]
  },
  {
   "cell_type": "markdown",
   "metadata": {},
   "source": [
    "$$\n",
    "f_{X}(x)\\quad = x+\\frac{1}{2}\n",
    "$$\n",
    "$$\n",
    "f_{Y}(y)\\quad = y+\\frac{1}{2}\n",
    "$$"
   ]
  },
  {
   "cell_type": "markdown",
   "metadata": {},
   "source": [
    "$$\n",
    "E(X)=\\int_{-\\infty}^{\\infty}xf_X(x)\\quad=\\int_{0}^{1}\\bigg(x^2+\\frac{x}{2}\\bigg)dx=\\frac{x^3}{3}+\\frac{x^2}{4}=\\frac{7}{12}\n",
    "$$\n",
    "$$\n",
    "E(Y)=\\int_{-\\infty}^{\\infty}yf_Y(y)\\quad=\\int_{0}^{1}\\bigg(y^2+\\frac{y}{2}\\bigg)dy=\\frac{y^3}{3}+\\frac{y^2}{4}=\\frac{7}{12}\n",
    "$$"
   ]
  },
  {
   "cell_type": "markdown",
   "metadata": {},
   "source": [
    "**_2.5_** Find $P(X>0.5\\vert Y\\leq 0.5)$. "
   ]
  },
  {
   "cell_type": "markdown",
   "metadata": {},
   "source": [
    "$$\n",
    "\\frac{P(X>0.5,Y\\leq0.5)}{P(Y\\leq0.5)} = \\frac{\\int_{x=0.5}^{x=1}\\int_{y=0}^{y=0.5}(x+y)dydx}{\\int_{y=0}^{y=0.5}y+\\frac{1}{2}dy}=\\frac{\\int_{x=0.5}^{x=1}\\bigg(\\frac{x}{2}+\\frac{1}{8}\\bigg)dx}{\\int_{y=0}^{y=0.5}y+\\frac{1}{2}dy}\n",
    "$$\n",
    "$$\n",
    "\\frac{\\frac{x^2}{4}+\\frac{x}{8}\\bigg|_{x=0.5}^{x=1}}{\\frac{3}{16}}=\\frac{\\frac{1}{8}}{\\frac{3}{16}}=\\frac{2}{3}\n",
    "$$"
   ]
  },
  {
   "cell_type": "markdown",
   "metadata": {},
   "source": [
    "**_2.6_** Find the conditional distributions of $X|Y$ and $Y|X$. Recall that conditional distributions can be found by dividing the joint pdf by the relevant marginal pdf. \n",
    "\n",
    "**_2.7_** Find $E(X|Y)$ and $E(Y|X)$."
   ]
  },
  {
   "cell_type": "markdown",
   "metadata": {},
   "source": [
    "$$\n",
    "E(X|Y) = \\frac{\\int_{-\\infty}^{\\infty}\\int_{-\\infty}^{\\infty}(x+y)dydx}{\\int_{-\\infty}^{\\infty}y+\\frac{1}{2}dy}\n",
    "$$\n",
    "$$\n",
    "E(Y|X) = \\frac{\\int_{-\\infty}^{\\infty}\\int_{-\\infty}^{\\infty}(x+y)dydx}{\\int_{-\\infty}^{\\infty}x+\\frac{1}{2}dx}\n",
    "$$"
   ]
  },
  {
   "cell_type": "markdown",
   "metadata": {},
   "source": [
    "$$\n",
    "E(X|Y) = \\int_{-\\infty}^{\\infty} x \\frac{\\int_{-\\infty}^{\\infty}\\int_{-\\infty}^{\\infty}(x+y)dydx}{\\int_{-\\infty}^{\\infty}y+\\frac{1}{2}dy}dx\n",
    "$$\n",
    "$$\n",
    "E(Y|X) = \\int_{-\\infty}^{\\infty} y \\frac{\\int_{-\\infty}^{\\infty}\\int_{-\\infty}^{\\infty}(x+y)dydx}{\\int_{-\\infty}^{\\infty}x+\\frac{1}{2}dx}dy\n",
    "$$"
   ]
  },
  {
   "cell_type": "markdown",
   "metadata": {},
   "source": [
    "**_2.8_** Are $X$ and $Y$ independent? "
   ]
  },
  {
   "cell_type": "markdown",
   "metadata": {},
   "source": [
    "$$\n",
    "E(XY)-E(X)E(Y) = \\int_y\\int_x xyf_{XY}(x,y)dxdy-E(X)E(Y)=-0.007\n",
    "$$\n",
    "Cov(X,Y) is very close to 0, therefore yes."
   ]
  },
  {
   "cell_type": "markdown",
   "metadata": {},
   "source": [
    "**_2.9_** What is $Cov(X,Y)$? "
   ]
  },
  {
   "cell_type": "markdown",
   "metadata": {},
   "source": [
    "See above"
   ]
  }
 ],
 "metadata": {
  "kernelspec": {
   "display_name": "Python 3",
   "language": "python",
   "name": "python3"
  },
  "language_info": {
   "codemirror_mode": {
    "name": "ipython",
    "version": 3
   },
   "file_extension": ".py",
   "mimetype": "text/x-python",
   "name": "python",
   "nbconvert_exporter": "python",
   "pygments_lexer": "ipython3",
   "version": "3.6.5"
  }
 },
 "nbformat": 4,
 "nbformat_minor": 2
}

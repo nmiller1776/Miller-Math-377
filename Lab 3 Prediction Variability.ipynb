{
 "cells": [
  {
   "cell_type": "markdown",
   "metadata": {},
   "source": [
    "# Lab 3: Regression Inference\n",
    "\n",
    "Welcome to Lab 3 of Data 8.3x!\n",
    "\n",
    "Sometimes, the primary purpose of regression analysis is to learn something about the slope or intercept of the best-fitting line.  When we use a sample of data to estimate the slope or intercept, our estimate is subject to random error, just like our estimates of population means and medians.\n",
    "\n",
    "In this lab, we'll use linear regression to estimate the age of the universe using pictures of exploding stars.  Our estimate will come from a sample of all exploding stars. We'll compute a confidence interval to quantify the error caused by sampling."
   ]
  },
  {
   "cell_type": "code",
   "execution_count": 1,
   "metadata": {},
   "outputs": [],
   "source": [
    "# Run this cell, but please don't change it.\n",
    "\n",
    "# These lines import the Numpy and Datascience modules.\n",
    "import numpy as np\n",
    "from datascience import *\n",
    "\n",
    "# These lines do some fancy plotting magic\n",
    "import matplotlib\n",
    "%matplotlib inline\n",
    "import matplotlib.pyplot as plt\n",
    "plt.style.use('fivethirtyeight')\n",
    "import warnings\n",
    "warnings.simplefilter('ignore', FutureWarning)\n",
    "warnings.simplefilter('ignore', UserWarning)\n",
    "from matplotlib import patches\n",
    "from ipywidgets import interact, interactive, fixed\n",
    "import ipywidgets as widgets\n",
    "\n",
    "# These lines load the tests.\n",
    "from gofer.ok import check"
   ]
  },
  {
   "cell_type": "markdown",
   "metadata": {},
   "source": [
    "## 1. The Age of the Universe\n",
    "\n",
    "### The Actual Big Bang Theory\n",
    "In the early 20th century, the most popular cosmological theory suggested that the universe had always existed at a fixed size.  Today, the Big Bang theory prevails: Our universe started out very small and is still expanding.\n",
    "\n",
    "A consequence of this is Hubble's Law, which says that the expansion of the universe creates the appearance that every celestial object that's reasonably far away from Earth (for example, another galaxy) is moving away from us at a constant speed.  If we extrapolate that motion backwards to the time when everything in the universe was in the same place, that time is (roughly) the beginning of the universe!\n",
    "\n",
    "Scientists have used this fact, along with measurements of the current *location* and *movement speed* of other celestial objects, to estimate when the universe started.\n",
    "\n",
    "The cell below simulates a universe in which our sun is the center and every other star is moving away from us.  Each star starts at the same place as the sun, then moves away from it over time.  Different stars have different directions *and speeds*; the arrows indicate the direction and speed of travel.\n",
    "\n",
    "Run the cell, then move the slider to see how things change over time."
   ]
  },
  {
   "cell_type": "code",
   "execution_count": 2,
   "metadata": {},
   "outputs": [
    {
     "data": {
      "application/vnd.jupyter.widget-view+json": {
       "model_id": "e090cb13a9ac404088ecbb25a3857941",
       "version_major": 2,
       "version_minor": 0
      },
      "text/plain": [
       "interactive(children=(FloatSlider(value=0.0, description='t', max=5.0, min=-2.0, step=0.05), Output()), _dom_c…"
      ]
     },
     "metadata": {},
     "output_type": "display_data"
    }
   ],
   "source": [
    "# Just run this cell.  (The simulation is actually not\n",
    "# that complicated; it just takes a lot of code to draw\n",
    "# everything.  So you don't need to read this unless you\n",
    "# have time and are curious about more advanced plotting.)\n",
    "\n",
    "num_locations = 15\n",
    "example_velocities = Table().with_columns(\n",
    "    \"x\", np.random.normal(size=num_locations),\n",
    "    \"y\", np.random.normal(size=num_locations))\n",
    "start_of_time = -2\n",
    "\n",
    "def scatter_after_time(t, start_of_time, end_of_time, velocities, center_name, other_point_name, make_title):\n",
    "    max_location = 1.1*(end_of_time-start_of_time)*max(max(abs(velocities.column(\"x\"))), max(abs(velocities.column(\"y\"))))\n",
    "    new_locations = velocities.with_columns(\n",
    "            \"x\", (t-start_of_time)*velocities.column(\"x\"),\n",
    "            \"y\", (t-start_of_time)*velocities.column(\"y\"))\n",
    "    plt.scatter(make_array(0), make_array(0), label=center_name, s=100, c=\"yellow\")\n",
    "    plt.scatter(new_locations.column(\"x\"), new_locations.column(\"y\"), label=other_point_name)\n",
    "    for i in np.arange(new_locations.num_rows):\n",
    "        plt.arrow(\n",
    "            new_locations.column(\"x\").item(i),\n",
    "            new_locations.column(\"y\").item(i),\n",
    "            velocities.column(\"x\").item(i),\n",
    "            velocities.column(\"y\").item(i),\n",
    "            fc='black',\n",
    "            ec='black',\n",
    "            head_width=0.025*max_location,\n",
    "            lw=.15)\n",
    "    plt.xlim(-max_location, max_location)\n",
    "    plt.ylim(-max_location, max_location)\n",
    "    plt.gca().set_aspect('equal', adjustable='box')\n",
    "    plt.gca().set_position(make_array(0, 0, 1, 1))\n",
    "    plt.legend(bbox_to_anchor=(1.6, .7))\n",
    "    plt.title(make_title(t))\n",
    "    plt.show()\n",
    "\n",
    "interact(\n",
    "    scatter_after_time,\n",
    "    t=widgets.FloatSlider(min=start_of_time, max=5, step=.05, value=0, msg_throttle=1),\n",
    "    start_of_time=fixed(start_of_time),\n",
    "    end_of_time=fixed(5),\n",
    "    velocities=fixed(example_velocities),\n",
    "    center_name=fixed(\"our sun\"),\n",
    "    other_point_name=fixed(\"other star\"),\n",
    "    make_title=fixed(lambda t: \"The world {:01g} year{} in the {}\".format(abs(t), \"\" if abs(t) == 1 else \"s\", \"past\" if t < 0 else \"future\")));"
   ]
  },
  {
   "cell_type": "markdown",
   "metadata": {},
   "source": [
    "### Analogy: driving\n",
    "Here's an analogy to illustrate how scientists use information about stars to estimate the age of the universe.\n",
    "\n",
    "Suppose that at some point in the past, our friend Mei started driving in a car going at a steady speed of 60 miles per hour straight east.  We're still standing where she started."
   ]
  },
  {
   "cell_type": "code",
   "execution_count": 3,
   "metadata": {},
   "outputs": [
    {
     "data": {
      "application/vnd.jupyter.widget-view+json": {
       "model_id": "4e35d6d762b6406bb14fe298f1f1feec",
       "version_major": 2,
       "version_minor": 0
      },
      "text/plain": [
       "interactive(children=(FloatSlider(value=0.0, description='t', max=1.0, min=-2.0, step=0.05), Output()), _dom_c…"
      ]
     },
     "metadata": {},
     "output_type": "display_data"
    }
   ],
   "source": [
    "# Run this cell to see a picture of Mei's locations over time.\n",
    "\n",
    "mei_velocity = Table().with_columns(\"x\", make_array(60), \"y\", make_array(0))\n",
    "interact(\n",
    "    scatter_after_time,\n",
    "    t=widgets.FloatSlider(min=-2, max=1, step=.05, value=0, msg_throttle=1),\n",
    "    start_of_time=fixed(-2),\n",
    "    end_of_time=fixed(1),\n",
    "    velocities=fixed(mei_velocity),\n",
    "    center_name=fixed(\"Us\"),\n",
    "    other_point_name=fixed(\"Mei\"),\n",
    "    make_title=fixed(lambda t: \"Mei's position {:01g} hour{} in the {}\".format(abs(t), \"\" if abs(t) == 1 else \"s\", \"past\" if t < 0 else \"future\")));"
   ]
  },
  {
   "cell_type": "markdown",
   "metadata": {},
   "source": [
    "We want to know how long she's been driving, but we forgot to record the time when she left.  If we find out that she's 120 miles away, and she's been going 60 miles per hour the whole time, we can infer that she left 2 hours ago.\n",
    "\n",
    "One way we can compute that number is by fitting a line to a scatter plot of our locations and speeds.  It turns out that the *slope* of that line is the amount of time that has passed.  Run the next cell to see a picture:"
   ]
  },
  {
   "cell_type": "code",
   "execution_count": 4,
   "metadata": {},
   "outputs": [
    {
     "data": {
      "image/png": "[encoded data removed]",
      "text/plain": [
       "<Figure size 360x360 with 1 Axes>"
      ]
     },
     "metadata": {},
     "output_type": "display_data"
    }
   ],
   "source": [
    "# Just run this cell.\n",
    "small_driving_example = Table().with_columns(\n",
    "        \"Name\",                                       make_array(\"Us\", \"Mei\"),\n",
    "        \"Speed moving away from us (miles per hour)\", make_array(0,    60),\n",
    "        \"Current distance from us (miles)\",           make_array(0,    120))\n",
    "\n",
    "small_driving_example.scatter(1, 2, s=200, fit_line=True)\n",
    "\n",
    "# Fancy magic to draw each person's name with their dot.\n",
    "with_slope_indicator = small_driving_example.with_row(\n",
    "    [\"Slope = 2\\ hours\", small_driving_example.column(1).mean(), small_driving_example.column(2).mean()])\n",
    "for i in range(with_slope_indicator.num_rows):\n",
    "    name = with_slope_indicator.column(0).item(i)\n",
    "    x = with_slope_indicator.column(1).item(i)\n",
    "    y = with_slope_indicator.column(2).item(i)\n",
    "    plt.scatter(make_array(x - 15), make_array(y + 15), s=1000*len(name), marker=\"$\\mathrm{\" + name + \"}$\")"
   ]
  },
  {
   "cell_type": "markdown",
   "metadata": {},
   "source": [
    "The slope of the line is 2 hours.  (The units are vertical-axis units divided by horizontal-axis units, which are $\\frac{\\texttt{miles}}{\\texttt{miles} / \\texttt{hour}}$, or hours.)  So that's our answer.\n",
    "\n",
    "Imagine that you don't know Mei's exact distance or speed, only rough estimates.  Then if you drew this line, you'd get a slightly bad estimate of the time since she left.  But if you measured the distance and speed of hundreds of people who left you at the same time going different speeds, and drew a line through them, the slope of that line would be a pretty good estimate of the time they left, even if the individual measurements weren't exactly right.\n",
    "\n",
    "The `drivers.csv` dataset contains the speeds and distances-from-start of 100 drivers.  They all left the same starting location at the same time, driving at a fixed speed on a straight line away from the start.  The measurements aren't exact, so they don't fit exactly on a line.  We've created a scatter plot and drawn a line through the data."
   ]
  },
  {
   "cell_type": "code",
   "execution_count": 5,
   "metadata": {},
   "outputs": [
    {
     "data": {
      "image/png": "[encoded data removed]",
      "text/plain": [
       "<Figure size 360x360 with 1 Axes>"
      ]
     },
     "metadata": {},
     "output_type": "display_data"
    }
   ],
   "source": [
    "# Just run this cell.\n",
    "Table.read_table(\"drivers.csv\").scatter(0, 1, fit_line=True)"
   ]
  },
  {
   "cell_type": "markdown",
   "metadata": {},
   "source": [
    "** Question 1.1 ** <br/>\n",
    "By looking at the fit line, estimate how long ago (in hours) Mei left."
   ]
  },
  {
   "cell_type": "code",
   "execution_count": 6,
   "metadata": {},
   "outputs": [
    {
     "data": {
      "text/plain": [
       "1.6666666666666667"
      ]
     },
     "execution_count": 6,
     "metadata": {},
     "output_type": "execute_result"
    }
   ],
   "source": [
    "# Fill in the start time you infer from the above line.\n",
    "driving_start_time_hours = 100/60\n",
    "driving_start_time_hours"
   ]
  },
  {
   "cell_type": "code",
   "execution_count": 7,
   "metadata": {
    "scrolled": true
   },
   "outputs": [
    {
     "data": {
      "text/html": [
       "\n",
       "    \n",
       "    \n",
       "        <p>All tests passed! Full grade.</p>\n",
       "    \n",
       "    "
      ],
      "text/plain": [
       "<gofer.ok.OKTestsResult at 0x7fc5ee545f28>"
      ]
     },
     "execution_count": 7,
     "metadata": {},
     "output_type": "execute_result"
    }
   ],
   "source": [
    "check('tests/q1_1.py')"
   ]
  },
  {
   "cell_type": "markdown",
   "metadata": {},
   "source": [
    "### Back to cosmology\n",
    "To do the same thing for the universe, we need to know the distance-from-Earth and speed-away-from-Earth of many celestial objects.  Using pictures taken by very accurate telescopes and a lot of physics, astronomers have been able to estimate both.  It turns out that *nearby supernovae* -- stars that have recently died and exploded -- are among the best sources of this data, because they are very easy to see.  This picture taken by the Hubble telescope shows an entire galaxy, with a single supernova - as bright by itself as billions of stars - at the bottom left.\n",
    "\n",
    "<img src=\"supernova.jpg\">\n",
    "\n",
    "Our astronomical data for today will come from the [Supernova Cosmology Project](http://supernova.lbl.gov/union/) at Lawrence Berkeley Lab.  The original dataset is [here](http://supernova.lbl.gov/union/figures/SCPUnion2.1_mu_vs_z.txt), with (brief) documentation [here](http://supernova.lbl.gov/union/descriptions.html#Magvsz).  Each row in the table corresponds to a supernova near Earth that was observed by astronomers.  From pictures like the one above, the astronomers deduced how far away each supernova was from Earth and how fast it was moving away from Earth.  Their deductions were good, but not perfect.\n",
    "\n",
    "Run the cell below to load the data into a table called `close_novas` and make a scatter plot. (If you prefer, you can also use the name `close_novae`; both are correct.)"
   ]
  },
  {
   "cell_type": "code",
   "execution_count": 8,
   "metadata": {},
   "outputs": [
    {
     "data": {
      "text/html": [
       "<table border=\"1\" class=\"dataframe\">\n",
       "    <thead>\n",
       "        <tr>\n",
       "            <th>Speed (parsecs/year)</th> <th>Distance (million parsecs)</th>\n",
       "        </tr>\n",
       "    </thead>\n",
       "    <tbody>\n",
       "        <tr>\n",
       "            <td>0.00873361          </td> <td>117.305                   </td>\n",
       "        </tr>\n",
       "    </tbody>\n",
       "        <tr>\n",
       "            <td>0.0153418           </td> <td>217.007                   </td>\n",
       "        </tr>\n",
       "    </tbody>\n",
       "        <tr>\n",
       "            <td>0.0162256           </td> <td>230.961                   </td>\n",
       "        </tr>\n",
       "    </tbody>\n",
       "        <tr>\n",
       "            <td>0.00528131          </td> <td>85.2853                   </td>\n",
       "        </tr>\n",
       "    </tbody>\n",
       "        <tr>\n",
       "            <td>0.0129474           </td> <td>185.051                   </td>\n",
       "        </tr>\n",
       "    </tbody>\n",
       "        <tr>\n",
       "            <td>0.0138862           </td> <td>212.841                   </td>\n",
       "        </tr>\n",
       "    </tbody>\n",
       "        <tr>\n",
       "            <td>0.0111837           </td> <td>151.728                   </td>\n",
       "        </tr>\n",
       "    </tbody>\n",
       "        <tr>\n",
       "            <td>0.0060085           </td> <td>82.6121                   </td>\n",
       "        </tr>\n",
       "    </tbody>\n",
       "        <tr>\n",
       "            <td>0.00838228          </td> <td>104.029                   </td>\n",
       "        </tr>\n",
       "    </tbody>\n",
       "        <tr>\n",
       "            <td>0.00812078          </td> <td>124.778                   </td>\n",
       "        </tr>\n",
       "    </tbody>\n",
       "</table>\n",
       "<p>... (146 rows omitted)</p>"
      ],
      "text/plain": [
       "Speed (parsecs/year) | Distance (million parsecs)\n",
       "0.00873361           | 117.305\n",
       "0.0153418            | 217.007\n",
       "0.0162256            | 230.961\n",
       "0.00528131           | 85.2853\n",
       "0.0129474            | 185.051\n",
       "0.0138862            | 212.841\n",
       "0.0111837            | 151.728\n",
       "0.0060085            | 82.6121\n",
       "0.00838228           | 104.029\n",
       "0.00812078           | 124.778\n",
       "... (146 rows omitted)"
      ]
     },
     "execution_count": 8,
     "metadata": {},
     "output_type": "execute_result"
    },
    {
     "data": {
      "image/png": "[encoded data removed]",
      "text/plain": [
       "<Figure size 360x360 with 1 Axes>"
      ]
     },
     "metadata": {},
     "output_type": "display_data"
    }
   ],
   "source": [
    "# Just run this cell.\n",
    "close_novas = Table.read_table(\"close_novas.csv\")\n",
    "close_novae = close_novas\n",
    "\n",
    "close_novas.scatter(0, 1, fit_line=True)\n",
    "close_novas"
   ]
  },
  {
   "cell_type": "markdown",
   "metadata": {},
   "source": [
    "** Question 1.2 ** <br/>\n",
    "Looking this plot, make a guess at the age of the universe.\n",
    "\n",
    "**Note**: Make sure you get the units right!  In case you need to know what a parsec is, it's a big unit of distance, equivalent to 30.86 trillion kilometers."
   ]
  },
  {
   "cell_type": "code",
   "execution_count": 9,
   "metadata": {},
   "outputs": [
    {
     "data": {
      "text/plain": [
       "'15.0 billion years'"
      ]
     },
     "execution_count": 9,
     "metadata": {},
     "output_type": "execute_result"
    }
   ],
   "source": [
    "# Fill this in manually by examining the line above.\n",
    "first_guess_universe_age_years = 150000000/.01\n",
    "\n",
    "# This just shows your guess as a nice string, in billions of years.\n",
    "\"{:,} billion years\".format(round(first_guess_universe_age_years / 1e9, 2))"
   ]
  },
  {
   "cell_type": "code",
   "execution_count": 10,
   "metadata": {},
   "outputs": [
    {
     "data": {
      "text/html": [
       "\n",
       "    \n",
       "    \n",
       "        <p>All tests passed! Full grade.</p>\n",
       "    \n",
       "    "
      ],
      "text/plain": [
       "<gofer.ok.OKTestsResult at 0x7fc5ee4e4780>"
      ]
     },
     "execution_count": 10,
     "metadata": {},
     "output_type": "execute_result"
    }
   ],
   "source": [
    "check('tests/q1_2.py')"
   ]
  },
  {
   "cell_type": "markdown",
   "metadata": {},
   "source": [
    "### Fitting the line yourself\n",
    "`fit_line=True` is convenient, but we need to be able to calculate the slope as a number.  Recall that the least-squares regression line for our supernova data is:\n",
    "* the line\n",
    "* with the smallest average (over all the supernovae we observe)\n",
    "* error,\n",
    "* squared,\n",
    "* where the error is\n",
    "\n",
    "$$\\text{the supernova's actual distance from Earth} - \\text{the height of the line at that supernova's speed.}$$"
   ]
  },
  {
   "cell_type": "markdown",
   "metadata": {},
   "source": [
    "** Question 1.3 ** <br/>\n",
    "Define a function called `errors`.  It should take three arguments:\n",
    "1. a table like `close_novas` (with the same column names and meanings, but not necessarily the same data)\n",
    "2. the slope of a line (a number)\n",
    "3. the intercept of a line (a number).\n",
    "\n",
    "It should return an array of the errors made when a line with that slope and intercept is used to predict distance from speed for each supernova in the given table.  (The error is the actual distance minus the predicted distance.)"
   ]
  },
  {
   "cell_type": "code",
   "execution_count": 11,
   "metadata": {
    "for_assignment_type": "student"
   },
   "outputs": [],
   "source": [
    "def errors(t, slope, intercept):\n",
    "    errors = t[1] - slope*t[0]+intercept\n",
    "    return errors"
   ]
  },
  {
   "cell_type": "markdown",
   "metadata": {},
   "source": [
    "** Question 1.4 ** <br/>\n",
    "Using `errors`, compute the errors for the line with slope `16000` and intercept `0` on the `close_novas` dataset.  Name that array `example_errors`.  Then make a scatter plot of the errors.\n",
    "\n",
    "**Hint:** To make a scatter plot of the errors, plot the error for each supernova in the dataset.  Put the actual speed on the horizontal axis and the error on the vertical axis."
   ]
  },
  {
   "cell_type": "code",
   "execution_count": 12,
   "metadata": {
    "scrolled": true
   },
   "outputs": [
    {
     "data": {
      "text/plain": [
       "<matplotlib.collections.PathCollection at 0x7fc5ee0265c0>"
      ]
     },
     "execution_count": 12,
     "metadata": {},
     "output_type": "execute_result"
    },
    {
     "data": {
      "image/png": "[encoded data removed]",
      "text/plain": [
       "<Figure size 432x288 with 1 Axes>"
      ]
     },
     "metadata": {},
     "output_type": "display_data"
    }
   ],
   "source": [
    "example_errors = errors(close_novas, 16000, 0)\n",
    "plt.scatter(close_novas[1], example_errors)"
   ]
  },
  {
   "cell_type": "code",
   "execution_count": 13,
   "metadata": {},
   "outputs": [
    {
     "data": {
      "text/html": [
       "\n",
       "    \n",
       "    \n",
       "        <p>All tests passed! Full grade.</p>\n",
       "    \n",
       "    "
      ],
      "text/plain": [
       "<gofer.ok.OKTestsResult at 0x7fc5ee4e42e8>"
      ]
     },
     "execution_count": 13,
     "metadata": {},
     "output_type": "execute_result"
    }
   ],
   "source": [
    "check('tests/q1_4.py')"
   ]
  },
  {
   "cell_type": "markdown",
   "metadata": {},
   "source": [
    "You should find that the errors are almost all negative.  That means our line is a little bit too steep.  Let's find a better one."
   ]
  },
  {
   "cell_type": "markdown",
   "metadata": {},
   "source": [
    "** Question 1.5 ** <br/>\n",
    "Define a function called `fit_line`.  It should take a table like `close_novas` (with the same column names and meanings) as its argument.  It should return an array containing the slope (as item 0) and intercept (as item 1) of the least-squares regression line predicting distance from speed for that table.\n",
    "\n",
    "Note: If you haven't tried to use the [`minimize` function](http://data8.org/datascience/util.html#datascience.util.minimize) yet, now is a great time to practice. Here's an [example from the textbook](https://www.inferentialthinking.com/chapters/15/3/Method_of_Least_Squares)."
   ]
  },
  {
   "cell_type": "code",
   "execution_count": 14,
   "metadata": {},
   "outputs": [
    {
     "data": {
      "text/plain": [
       "array([2., 1.])"
      ]
     },
     "execution_count": 14,
     "metadata": {},
     "output_type": "execute_result"
    }
   ],
   "source": [
    "def fit_line(tbl):\n",
    "    # Your code may need more than 1 line below here.\n",
    "    # Rather than using the regression line formulas, try\n",
    "    # calling minimize on the mean squared error.\n",
    "    x = tbl[0]\n",
    "    y = tbl[1]\n",
    "    def tbl_mse(any_slope, any_intercept):\n",
    "        predicted = x*any_slope+any_intercept\n",
    "        mse = np.mean((y-predicted)**2)\n",
    "        return mse\n",
    "    a=minimize(tbl_mse)\n",
    "    slope = a[0]\n",
    "    intercept = a[1]\n",
    "    return make_array(slope, intercept)\n",
    "    \n",
    "# Here is an example call to your function.  To test your function,\n",
    "# figure out the right slope and intercept by hand.\n",
    "example_table = Table().with_columns(\n",
    "    \"Speed (parsecs/year)\", make_array(0, 1),\n",
    "    \"Distance (million parsecs)\", make_array(1, 3))\n",
    "fit_line(example_table)"
   ]
  },
  {
   "cell_type": "code",
   "execution_count": 15,
   "metadata": {},
   "outputs": [
    {
     "data": {
      "text/html": [
       "\n",
       "    \n",
       "    \n",
       "        <p>All tests passed! Full grade.</p>\n",
       "    \n",
       "    "
      ],
      "text/plain": [
       "<gofer.ok.OKTestsResult at 0x7fc5ee048940>"
      ]
     },
     "execution_count": 15,
     "metadata": {},
     "output_type": "execute_result"
    }
   ],
   "source": [
    "check('tests/q1_5.py')"
   ]
  },
  {
   "cell_type": "markdown",
   "metadata": {},
   "source": [
    "** Question 1.6 ** <br/>\n",
    "Use your function to fit a line to `close_novas`.\n",
    "\n",
    "Then, set `new_errors` equal to the errors that we get calling `errors` with our new line. The cell below will graph the corresponding residual plot with a best fit line.\n",
    "\n",
    "Make sure that the residual plot makes sense (Hint: what qualities should the best fit line of a residual plot have?)"
   ]
  },
  {
   "cell_type": "code",
   "execution_count": 16,
   "metadata": {
    "scrolled": false
   },
   "outputs": [
    {
     "data": {
      "text/plain": [
       "'Slope: 14094.5 (corresponding to an estimated age of 14.0945 billion years)'"
      ]
     },
     "execution_count": 16,
     "metadata": {},
     "output_type": "execute_result"
    },
    {
     "data": {
      "image/png": "[encoded data removed]",
      "text/plain": [
       "<Figure size 360x360 with 1 Axes>"
      ]
     },
     "metadata": {},
     "output_type": "display_data"
    }
   ],
   "source": [
    "best_line = fit_line(close_novas)\n",
    "best_line_slope = best_line[0]\n",
    "best_line_intercept = best_line[1]\n",
    "\n",
    "new_errors = (y-(best_line_slope*x+best_line_intercept)**2)\n",
    "\n",
    "# This code displays the residual plot, given your values for the best_line_slope and best_line_intercept\n",
    "Table().with_column(\"Speed (parsecs/year)\", \n",
    "                    close_novas.column(\"Speed (parsecs/year)\"), \n",
    "                    \"Distance errors (million parsecs)\", \n",
    "                    new_errors\n",
    "                   ).scatter(0, 1, fit_line=True)\n",
    "\n",
    "# This just shows your answer as a nice string, in billions of years.\n",
    "\"Slope: {:g} (corresponding to an estimated age of {:,} billion years)\".format(best_line_slope, round(best_line_slope/1000, 4))"
   ]
  },
  {
   "cell_type": "markdown",
   "metadata": {},
   "source": [
    "That slope (multiplied by 1 million) is an estimate of the age of the universe.  The current best estimate of the age of the universe (using slightly more sophisticated techniques) is 13.799 billion years.  Did we get close?\n",
    "\n",
    "One reason our answer might be a little off is that we are using a sample of only some of the supernovae in the universe.  Our sample isn't exactly random, since astronomers presumably chose the novae that were easiest to measure (or used some other nonrandom criteria).  But let's assume it is.  How can we produce a confidence interval for the age of the universe?"
   ]
  },
  {
   "cell_type": "markdown",
   "metadata": {},
   "source": [
    "** Question 1.7 ** <br/>\n",
    "It's time to bootstrap so that we can quantify the variability in our estimate! Simulate 1000 resamples from `close_novas`.  For each resample, compute the slope of the least-squares regression line, and multiply it by 1 million to compute an estimate of the age of the universe.  Store these ages in an array called `bootstrap_ages`, and then use them to compute a 95% confidence interval for the age of the universe.\n",
    "\n",
    "**Note:** This might take up to a minute, and more repetitions will take even longer."
   ]
  },
  {
   "cell_type": "code",
   "execution_count": 25,
   "metadata": {},
   "outputs": [
    {
     "name": "stdout",
     "output_type": "stream",
     "text": [
      "95% confidence interval for the age of the universe: [13.6167, 14.5032] billion years\n"
     ]
    },
    {
     "data": {
      "image/png": "[encoded data removed]",
      "text/plain": [
       "<Figure size 432x288 with 1 Axes>"
      ]
     },
     "metadata": {},
     "output_type": "display_data"
    }
   ],
   "source": [
    "bootstrap_ages = make_array()\n",
    "for i in np.arange(1000):\n",
    "    bootstrap_ages = np.append(bootstrap_ages, fit_line(close_novas.sample())[0]*1000000)\n",
    "\n",
    "lower_end = percentile(2.5, bootstrap_ages)\n",
    "upper_end = percentile(97.5, bootstrap_ages)\n",
    "Table().with_column(\"Age estimate\", bootstrap_ages*1e-9).hist(bins=np.arange(12, 16, .1), unit=\"billion years\")\n",
    "print(\"95% confidence interval for the age of the universe: [{:g}, {:g}] billion years\".format(lower_end*1e-9, upper_end*1e-9))"
   ]
  },
  {
   "cell_type": "code",
   "execution_count": 26,
   "metadata": {},
   "outputs": [
    {
     "data": {
      "text/html": [
       "\n",
       "    \n",
       "    \n",
       "        <p>All tests passed! Full grade.</p>\n",
       "    \n",
       "    "
      ],
      "text/plain": [
       "<gofer.ok.OKTestsResult at 0x7fc5edbaeba8>"
      ]
     },
     "execution_count": 26,
     "metadata": {},
     "output_type": "execute_result"
    }
   ],
   "source": [
    "check('tests/q1_7.py')"
   ]
  },
  {
   "cell_type": "markdown",
   "metadata": {},
   "source": [
    "Nice work, data astronomer! You can compare your result to the [Planck project 2015 results](https://arxiv.org/pdf/1502.01589.pdf), which estimated the age of the universe to be 13.799±0.021 billion years. "
   ]
  },
  {
   "cell_type": "markdown",
   "metadata": {},
   "source": [
    "## Submission"
   ]
  },
  {
   "cell_type": "markdown",
   "metadata": {},
   "source": [
    "You're finished with lab 3! In order to successfully submit your assignment, follow these steps...\n",
    "- **IMPORTANT** Before you do anything, **Save and Checkpoint** from the `File` menu. Please do this first before running the cell below,\n",
    "- **run all the tests and verify that they all pass** (the next cell has a shortcut for that), \n",
    "- **Review the notebook one last time, we will be grading the final state of your notebook** If you make any changes, please **Save and Checkpoint** again."
   ]
  },
  {
   "cell_type": "code",
   "execution_count": 27,
   "metadata": {},
   "outputs": [
    {
     "data": {
      "application/vnd.jupyter.widget-view+json": {
       "model_id": "ad8fe1b48acd4ce19775674a0bda8c94",
       "version_major": 2,
       "version_minor": 0
      },
      "text/plain": [
       "interactive(children=(FloatSlider(value=0.0, description='t', max=5.0, min=-2.0, step=0.05), Output()), _dom_c…"
      ]
     },
     "metadata": {},
     "output_type": "display_data"
    },
    {
     "data": {
      "application/vnd.jupyter.widget-view+json": {
       "model_id": "df3adc3a9d374046ad687e68e5c3ef6f",
       "version_major": 2,
       "version_minor": 0
      },
      "text/plain": [
       "interactive(children=(FloatSlider(value=0.0, description='t', max=1.0, min=-2.0, step=0.05), Output()), _dom_c…"
      ]
     },
     "metadata": {},
     "output_type": "display_data"
    },
    {
     "data": {
      "application/vnd.jupyter.widget-view+json": {
       "model_id": "0c0141ffd47b4afe90be9009d68ed063",
       "version_major": 2,
       "version_minor": 0
      },
      "text/plain": [
       "interactive(children=(FloatSlider(value=0.0, description='t', max=5.0, min=-2.0, step=0.05), Output()), _dom_c…"
      ]
     },
     "metadata": {},
     "output_type": "display_data"
    },
    {
     "data": {
      "application/vnd.jupyter.widget-view+json": {
       "model_id": "30622a2ec1654d29b218ea6312461820",
       "version_major": 2,
       "version_minor": 0
      },
      "text/plain": [
       "interactive(children=(FloatSlider(value=0.0, description='t', max=1.0, min=-2.0, step=0.05), Output()), _dom_c…"
      ]
     },
     "metadata": {},
     "output_type": "display_data"
    },
    {
     "name": "stdout",
     "output_type": "stream",
     "text": [
      "95% confidence interval for the age of the universe: [1.36111e-05, 1.36111e-05] billion years\n",
      "Question 1:\n"
     ]
    },
    {
     "data": {
      "text/html": [
       "\n",
       "    \n",
       "    \n",
       "        <p>All tests passed! Full grade.</p>\n",
       "    \n",
       "    "
      ],
      "text/plain": [
       "<gofer.ok.OKTestsResult at 0x7fc5ed851518>"
      ]
     },
     "metadata": {},
     "output_type": "display_data"
    },
    {
     "name": "stdout",
     "output_type": "stream",
     "text": [
      "Question 2:\n"
     ]
    },
    {
     "data": {
      "text/html": [
       "\n",
       "    \n",
       "    \n",
       "        <p>All tests passed! Full grade.</p>\n",
       "    \n",
       "    "
      ],
      "text/plain": [
       "<gofer.ok.OKTestsResult at 0x7fc5ed880f60>"
      ]
     },
     "metadata": {},
     "output_type": "display_data"
    },
    {
     "name": "stdout",
     "output_type": "stream",
     "text": [
      "Question 3:\n"
     ]
    },
    {
     "data": {
      "text/html": [
       "\n",
       "    \n",
       "    \n",
       "        <p>All tests passed! Full grade.</p>\n",
       "    \n",
       "    "
      ],
      "text/plain": [
       "<gofer.ok.OKTestsResult at 0x7fc5ed836f28>"
      ]
     },
     "metadata": {},
     "output_type": "display_data"
    },
    {
     "name": "stdout",
     "output_type": "stream",
     "text": [
      "Question 4:\n"
     ]
    },
    {
     "data": {
      "text/html": [
       "\n",
       "    \n",
       "    \n",
       "        <p>All tests passed! Full grade.</p>\n",
       "    \n",
       "    "
      ],
      "text/plain": [
       "<gofer.ok.OKTestsResult at 0x7fc5ed842208>"
      ]
     },
     "metadata": {},
     "output_type": "display_data"
    },
    {
     "name": "stdout",
     "output_type": "stream",
     "text": [
      "Question 5:\n"
     ]
    },
    {
     "data": {
      "text/html": [
       "\n",
       "    \n",
       "    \n",
       "        <p>0 of 1 tests passed</p>\n",
       "        \n",
       "        \n",
       "        <p> <strong>Tests failed: </strong>\n",
       "            <ul>\n",
       "            \n",
       "                <li> \n",
       "    <p><strong style='color: red;'>tests/q1_7.py</strong></p>\n",
       "\n",
       "    <p><strong>Test code:</strong><pre><div class=\"highlight\" style=\"background: #f8f8f8\"><pre style=\"line-height: 125%\"><span></span><span style=\"color: #000080; font-weight: bold\">&gt;&gt;&gt; </span><span style=\"color: #008000\">abs</span>(upper_end<span style=\"color: #666666\">/1e9</span> <span style=\"color: #666666\">-</span> <span style=\"color: #666666\">14.5</span>) <span style=\"color: #666666\">&lt;</span> <span style=\"color: #666666\">.3</span>\n",
       "<span style=\"color: #888888\">True</span>\n",
       "<span style=\"color: #000080; font-weight: bold\">&gt;&gt;&gt; </span><span style=\"color: #008000\">abs</span>(lower_end<span style=\"color: #666666\">/1e9</span> <span style=\"color: #666666\">-</span> <span style=\"color: #666666\">13.5</span>) <span style=\"color: #666666\">&lt;</span> <span style=\"color: #666666\">.3</span>\n",
       "<span style=\"color: #888888\">True</span>\n",
       "</pre></div>\n",
       "</pre></p>\n",
       "\n",
       "    <p><strong>Test result:</strong><pre>Trying:\n",
       "    abs(upper_end/1e9 - 14.5) < .3\n",
       "Expecting:\n",
       "    True\n",
       "**********************************************************************\n",
       "Line 2, in tests/q1_7.py 0\n",
       "Failed example:\n",
       "    abs(upper_end/1e9 - 14.5) < .3\n",
       "Expected:\n",
       "    True\n",
       "Got:\n",
       "    False\n",
       "Trying:\n",
       "    abs(lower_end/1e9 - 13.5) < .3\n",
       "Expecting:\n",
       "    True\n",
       "**********************************************************************\n",
       "Line 4, in tests/q1_7.py 0\n",
       "Failed example:\n",
       "    abs(lower_end/1e9 - 13.5) < .3\n",
       "Expected:\n",
       "    True\n",
       "Got:\n",
       "    False\n",
       "</pre></p>\n",
       "     </li>\n",
       "            \n",
       "            </ul>\n",
       "        \n",
       "    \n",
       "    "
      ],
      "text/plain": [
       "<gofer.ok.OKTestsResult at 0x7fc5ed79ff98>"
      ]
     },
     "metadata": {},
     "output_type": "display_data"
    },
    {
     "data": {
      "text/plain": [
       "0.8"
      ]
     },
     "metadata": {},
     "output_type": "display_data"
    }
   ],
   "source": [
    "# For your convenience, you can run this cell to run all the tests at once!\n",
    "import glob\n",
    "from gofer.ok import grade_notebook\n",
    "if not globals().get('__GOFER_GRADER__', False):\n",
    "    display(grade_notebook('lab03.ipynb', sorted(glob.glob('tests/q*.py'))))"
   ]
  }
 ],
 "metadata": {
  "anaconda-cloud": {},
  "kernelspec": {
   "display_name": "Python 3",
   "language": "python",
   "name": "python3"
  },
  "language_info": {
   "codemirror_mode": {
    "name": "ipython",
    "version": 3
   },
   "file_extension": ".py",
   "mimetype": "text/x-python",
   "name": "python",
   "nbconvert_exporter": "python",
   "pygments_lexer": "ipython3",
   "version": "3.6.6"
  },
  "widgets": {
   "state": {
    "6c09ba2474d24e10bdd21db7b9699237": {
     "views": [
      {
       "cell_index": 9
      }
     ]
    },
    "ef0a0194fbdd498787d3894efa009a7e": {
     "views": [
      {
       "cell_index": 3
      }
     ]
    }
   },
   "version": "1.2.0"
  }
 },
 "nbformat": 4,
 "nbformat_minor": 1
}
